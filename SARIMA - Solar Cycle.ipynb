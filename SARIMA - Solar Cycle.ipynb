{
 "cells": [
  {
   "cell_type": "markdown",
   "id": "f1eabc1c-03af-442a-aac4-da201b51f8cb",
   "metadata": {},
   "source": [
    "### About SARIMA\n",
    "\n",
    "SARIMA = Seasonal AutoRegressive Integrated Moving Average\n",
    "\n",
    "Seasonal: Is like it sounds, this is the seasonality contribution to the model\n",
    "\n",
    "Autoregressive: Autoregression is when the variable you are interested in is forecasted using a linear combination of past values. Essentially, it is a regression against itself. Autocorrelation and partial autocorrelation are used to find optimal p values. Autocorrelation will consider the effect of a variable in the past, and effects of other variables on it. Partial autocorrelation will only measure the direct values between current and past values.\n",
    "\n",
    "Integrated: Integration is the differencing applied to data to check the mean and variance. A dickery-fuller test is run on the data to make it stationary, or level, and check for the aformentioned mean and variance. \n",
    "\n",
    "Moving Average: Moving average is a regression-like past-error model. The error can only be found after fitting the model, and it represents the random deviations between the variable and the model. \n",
    "\n",
    "### Pipeline details:\n",
    "\n",
    "The decomposition will give hints as to the p,q values, where p represents autoregression and q represents the moving average. ACF (aucorrelation) and PACF (partial autocorrelation) tests are good to find potential p values. The adfuller test will tell whether the data is stationary (p-value < .05 & adf > critical value), or needs diffing (p-value >= .05).\n",
    "\n",
    "The test-train split ratio is 80:20\n",
    "\n",
    "\n",
    "(p, d, q) represents the non-seasonal part of the model\n",
    "\n",
    "(P, D, Q, m) represents the seasonal part of the model - where P, D, Q can be found from the same parts as the non-season section, and m is the observation frequency (1 hour in this particular case). \n",
    "\n",
    "### Notes, Limitations, and Discussion:\n",
    "\n",
    "My local machine doesn't have the RAM to run this as of now, hence why the p, q, d and P, Q, D values are currently blank. They will be filled once the appropriate values are found.\n",
    "\n",
    "To further my understanding (and also just general curiosity) I think I'm going to run the model as is without the test-train split by commenting it out- and while it is running on the distributed computing cluster, I will update this with the actual test-train split. \n",
    "\n",
    "Weaknesses: the main weakness from this model will probably come from the amount of data that was thrown away (>90%), and the amount of data that was generated using the Interpolate Refill Sample method. There was ~186,000 values before the resampling, and ~334,000 values after. Only ~55% of the total data is original. This could potentially be improved by predicting the gaps using previous data, as opposed to a resampling method.\n",
    "\n",
    "Additional future work could include checking different time intervals and comparing the results, and trying other filters with the same process."
   ]
  },
  {
   "cell_type": "code",
   "execution_count": null,
   "id": "1975436e-79c4-44ea-a16c-dcb4830ad613",
   "metadata": {},
   "outputs": [],
   "source": [
    "import numpy as np\n",
    "import pandas as pd\n",
    "import matplotlib.pyplot as plt\n",
    "import scipy"
   ]
  },
  {
   "cell_type": "code",
   "execution_count": null,
   "id": "f3e31d20-05f4-48e6-a36b-eb3e0df50983",
   "metadata": {},
   "outputs": [],
   "source": [
    "solar_cleaned = pd.read_csv('/home/cyrus/Documents/Solar/cleaned_PSP_data.csv')\n",
    "solar_cleaned['time'] = pd.to_datetime(solar_cleaned.time)"
   ]
  },
  {
   "cell_type": "code",
   "execution_count": null,
   "id": "e9da2bf2-719d-42c6-9a54-6ca1759368d6",
   "metadata": {},
   "outputs": [],
   "source": [
    "solar_cleaned"
   ]
  },
  {
   "cell_type": "code",
   "execution_count": null,
   "id": "2f6136d7-eb8c-47ca-8c8e-14a5144f3d3d",
   "metadata": {},
   "outputs": [],
   "source": [
    "time = solar_cleaned['time']\n",
    "radiance = solar_cleaned['Global PSP [W/m^2]']"
   ]
  },
  {
   "cell_type": "code",
   "execution_count": null,
   "id": "ab0ef4bc-17fb-4442-8eca-85cefb9ea36b",
   "metadata": {},
   "outputs": [],
   "source": [
    "plt.plot(time, radiance)\n",
    "plt.show()"
   ]
  },
  {
   "cell_type": "code",
   "execution_count": null,
   "id": "185c4eb6-f534-438d-9a2a-8e6ceaeeb61a",
   "metadata": {},
   "outputs": [],
   "source": [
    "from statsmodels.tsa.seasonal import seasonal_decompose\n",
    "decompose_data = seasonal_decompose(solar_cleaned, model=\"additive\")\n",
    "decompose_data.plot();"
   ]
  },
  {
   "cell_type": "code",
   "execution_count": null,
   "id": "2463c742-78a3-4b4b-941f-446f1046e441",
   "metadata": {},
   "outputs": [],
   "source": [
    "seasonality=decompose_data.seasonal\n",
    "seasonality.plot(color='red')"
   ]
  },
  {
   "cell_type": "code",
   "execution_count": null,
   "id": "dd158eb0-61b1-42d4-99c2-0d9e70a7f149",
   "metadata": {},
   "outputs": [],
   "source": [
    "from statsmodels.tsa.stattools import adfuller\n",
    "solar_adfuller = adfuller(radiance, autolag = 'AIC')\n",
    "print(\"ADF : \",solar_adfuller[0])\n",
    "print(\"P-Value : \", solar_adfuller[1])\n",
    "print(\"Crit-Value: \", solar_adfuller[4])"
   ]
  },
  {
   "cell_type": "code",
   "execution_count": null,
   "id": "fd9001f1-1f91-4a4a-9ab7-fbf616fda688",
   "metadata": {},
   "outputs": [],
   "source": []
  },
  {
   "cell_type": "code",
   "execution_count": null,
   "id": "71b3277d-fdf2-47ff-a49f-ffbd0e7fb8b2",
   "metadata": {},
   "outputs": [],
   "source": [
    "train = radiance[0:265141]\n",
    "test = radiance[265142:-1]"
   ]
  },
  {
   "cell_type": "code",
   "execution_count": null,
   "id": "ea840290-b713-4a2e-a8aa-c27be8834d59",
   "metadata": {},
   "outputs": [],
   "source": []
  },
  {
   "cell_type": "code",
   "execution_count": null,
   "id": "c71682c5-7b59-4841-933c-51ed9848f1ab",
   "metadata": {},
   "outputs": [],
   "source": [
    "from statsmodels.tsa.statespace.sarimax import SARIMAX as sm"
   ]
  },
  {
   "cell_type": "code",
   "execution_count": null,
   "id": "cdb8606c-6793-4ab1-a837-d6426812bfb3",
   "metadata": {},
   "outputs": [],
   "source": [
    "solar_model = sm(solar_cleaned['Global PSP [W/m^2]'], \n",
    "                order=(p, d, q), \n",
    "                seasonal_order=(P, D, Q, M)\n",
    "predictions = solar_model.fit().predict()"
   ]
  },
  {
   "cell_type": "code",
   "execution_count": null,
   "id": "4d4a4e46-e8f1-474e-8d08-9f33db180ee2",
   "metadata": {},
   "outputs": [],
   "source": [
    "plt.plot(predictions, color = 'red', label = 'Predicted')\n",
    "plt.plot(radiance, color = 'black', label = 'Actual')\n",
    "plt.figsize(16, 4)\n",
    "plt.title('Prediction of the Solar Output over Time')\n",
    "plt.show()"
   ]
  },
  {
   "cell_type": "markdown",
   "id": "cb686b91-43b8-4792-b86a-4ab6756a8692",
   "metadata": {},
   "source": [
    "\n",
    "\n",
    "\n",
    "\n",
    "\n",
    "\n"
   ]
  },
  {
   "cell_type": "code",
   "execution_count": null,
   "id": "2d2b4f10-19f8-487d-af1b-f960c0fce853",
   "metadata": {},
   "outputs": [],
   "source": []
  }
 ],
 "metadata": {
  "kernelspec": {
   "display_name": "Python 3 (ipykernel)",
   "language": "python",
   "name": "python3"
  },
  "language_info": {
   "codemirror_mode": {
    "name": "ipython",
    "version": 3
   },
   "file_extension": ".py",
   "mimetype": "text/x-python",
   "name": "python",
   "nbconvert_exporter": "python",
   "pygments_lexer": "ipython3",
   "version": "3.10.4"
  }
 },
 "nbformat": 4,
 "nbformat_minor": 5
}
